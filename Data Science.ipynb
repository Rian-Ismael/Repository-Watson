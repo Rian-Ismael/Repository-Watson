{
    "cells": [
        {
            "cell_type": "markdown",
            "metadata": {},
            "source": "## JobsHistory\n#### Description"
        },
        {
            "cell_type": "code",
            "execution_count": 16,
            "metadata": {},
            "outputs": [
                {
                    "data": {
                        "text/html": "<div>\n<style scoped>\n    .dataframe tbody tr th:only-of-type {\n        vertical-align: middle;\n    }\n\n    .dataframe tbody tr th {\n        vertical-align: top;\n    }\n\n    .dataframe thead th {\n        text-align: right;\n    }\n</style>\n<table border=\"1\" class=\"dataframe\">\n  <thead>\n    <tr style=\"text-align: right;\">\n      <th></th>\n      <th>E1001</th>\n      <th>08/01/2000</th>\n      <th>100</th>\n      <th>2</th>\n    </tr>\n  </thead>\n  <tbody>\n    <tr>\n      <th>0</th>\n      <td>E1002</td>\n      <td>08/01/2001</td>\n      <td>200</td>\n      <td>5</td>\n    </tr>\n    <tr>\n      <th>1</th>\n      <td>E1003</td>\n      <td>08/16/2001</td>\n      <td>300</td>\n      <td>5</td>\n    </tr>\n    <tr>\n      <th>2</th>\n      <td>E1004</td>\n      <td>08/16/2000</td>\n      <td>400</td>\n      <td>5</td>\n    </tr>\n    <tr>\n      <th>3</th>\n      <td>E1005</td>\n      <td>05/30/2000</td>\n      <td>500</td>\n      <td>2</td>\n    </tr>\n    <tr>\n      <th>4</th>\n      <td>E1006</td>\n      <td>08/16/2001</td>\n      <td>600</td>\n      <td>2</td>\n    </tr>\n  </tbody>\n</table>\n</div>",
                        "text/plain": "   E1001  08/01/2000  100  2\n0  E1002  08/01/2001  200  5\n1  E1003  08/16/2001  300  5\n2  E1004  08/16/2000  400  5\n3  E1005  05/30/2000  500  2\n4  E1006  08/16/2001  600  2"
                    },
                    "execution_count": 16,
                    "metadata": {},
                    "output_type": "execute_result"
                }
            ],
            "source": "# The code was removed by Watson Studio for sharing."
        },
        {
            "cell_type": "markdown",
            "metadata": {},
            "source": "## HousePrice\n#### Description"
        },
        {
            "cell_type": "code",
            "execution_count": 17,
            "metadata": {},
            "outputs": [
                {
                    "data": {
                        "text/html": "<div>\n<style scoped>\n    .dataframe tbody tr th:only-of-type {\n        vertical-align: middle;\n    }\n\n    .dataframe tbody tr th {\n        vertical-align: top;\n    }\n\n    .dataframe thead th {\n        text-align: right;\n    }\n</style>\n<table border=\"1\" class=\"dataframe\">\n  <thead>\n    <tr style=\"text-align: right;\">\n      <th></th>\n      <th>OverallQual</th>\n      <th>OverallCond</th>\n      <th>BsmtFinSF1</th>\n      <th>GrLivArea</th>\n      <th>BedroomAbvGr</th>\n      <th>GarageArea</th>\n      <th>SalePrice</th>\n    </tr>\n  </thead>\n  <tbody>\n    <tr>\n      <th>0</th>\n      <td>7</td>\n      <td>5</td>\n      <td>706</td>\n      <td>1710</td>\n      <td>3</td>\n      <td>548</td>\n      <td>208500</td>\n    </tr>\n    <tr>\n      <th>1</th>\n      <td>6</td>\n      <td>8</td>\n      <td>978</td>\n      <td>1262</td>\n      <td>3</td>\n      <td>460</td>\n      <td>181500</td>\n    </tr>\n    <tr>\n      <th>2</th>\n      <td>7</td>\n      <td>5</td>\n      <td>486</td>\n      <td>1786</td>\n      <td>3</td>\n      <td>608</td>\n      <td>223500</td>\n    </tr>\n    <tr>\n      <th>3</th>\n      <td>7</td>\n      <td>5</td>\n      <td>216</td>\n      <td>1717</td>\n      <td>3</td>\n      <td>642</td>\n      <td>140000</td>\n    </tr>\n    <tr>\n      <th>4</th>\n      <td>8</td>\n      <td>5</td>\n      <td>655</td>\n      <td>2198</td>\n      <td>4</td>\n      <td>836</td>\n      <td>250000</td>\n    </tr>\n  </tbody>\n</table>\n</div>",
                        "text/plain": "   OverallQual  OverallCond  BsmtFinSF1  GrLivArea  BedroomAbvGr  GarageArea  \\\n0            7            5         706       1710             3         548   \n1            6            8         978       1262             3         460   \n2            7            5         486       1786             3         608   \n3            7            5         216       1717             3         642   \n4            8            5         655       2198             4         836   \n\n   SalePrice  \n0     208500  \n1     181500  \n2     223500  \n3     140000  \n4     250000  "
                    },
                    "execution_count": 17,
                    "metadata": {},
                    "output_type": "execute_result"
                }
            ],
            "source": "# The code was removed by Watson Studio for sharing."
        },
        {
            "cell_type": "markdown",
            "metadata": {},
            "source": "## Departments\n#### Description"
        },
        {
            "cell_type": "code",
            "execution_count": 18,
            "metadata": {},
            "outputs": [
                {
                    "data": {
                        "text/html": "<div>\n<style scoped>\n    .dataframe tbody tr th:only-of-type {\n        vertical-align: middle;\n    }\n\n    .dataframe tbody tr th {\n        vertical-align: top;\n    }\n\n    .dataframe thead th {\n        text-align: right;\n    }\n</style>\n<table border=\"1\" class=\"dataframe\">\n  <thead>\n    <tr style=\"text-align: right;\">\n      <th></th>\n      <th>2</th>\n      <th>Architect Group</th>\n      <th>30001</th>\n      <th>L0001</th>\n    </tr>\n  </thead>\n  <tbody>\n    <tr>\n      <th>0</th>\n      <td>5</td>\n      <td>Software Group</td>\n      <td>30002</td>\n      <td>L0002</td>\n    </tr>\n    <tr>\n      <th>1</th>\n      <td>7</td>\n      <td>Design Team</td>\n      <td>30003</td>\n      <td>L0003</td>\n    </tr>\n  </tbody>\n</table>\n</div>",
                        "text/plain": "   2 Architect Group  30001  L0001\n0  5  Software Group  30002  L0002\n1  7     Design Team  30003  L0003"
                    },
                    "execution_count": 18,
                    "metadata": {},
                    "output_type": "execute_result"
                }
            ],
            "source": "# The code was removed by Watson Studio for sharing."
        },
        {
            "cell_type": "markdown",
            "metadata": {},
            "source": "## Locations\n#### Description"
        },
        {
            "cell_type": "code",
            "execution_count": 19,
            "metadata": {},
            "outputs": [
                {
                    "data": {
                        "text/html": "<div>\n<style scoped>\n    .dataframe tbody tr th:only-of-type {\n        vertical-align: middle;\n    }\n\n    .dataframe tbody tr th {\n        vertical-align: top;\n    }\n\n    .dataframe thead th {\n        text-align: right;\n    }\n</style>\n<table border=\"1\" class=\"dataframe\">\n  <thead>\n    <tr style=\"text-align: right;\">\n      <th></th>\n      <th>L0001</th>\n      <th>2</th>\n    </tr>\n  </thead>\n  <tbody>\n    <tr>\n      <th>0</th>\n      <td>L0002</td>\n      <td>5</td>\n    </tr>\n    <tr>\n      <th>1</th>\n      <td>L0003</td>\n      <td>7</td>\n    </tr>\n  </tbody>\n</table>\n</div>",
                        "text/plain": "   L0001  2\n0  L0002  5\n1  L0003  7"
                    },
                    "execution_count": 19,
                    "metadata": {},
                    "output_type": "execute_result"
                }
            ],
            "source": "# The code was removed by Watson Studio for sharing."
        },
        {
            "cell_type": "markdown",
            "metadata": {},
            "source": "## Jobs\n#### Description"
        },
        {
            "cell_type": "code",
            "execution_count": 20,
            "metadata": {},
            "outputs": [
                {
                    "data": {
                        "text/html": "<div>\n<style scoped>\n    .dataframe tbody tr th:only-of-type {\n        vertical-align: middle;\n    }\n\n    .dataframe tbody tr th {\n        vertical-align: top;\n    }\n\n    .dataframe thead th {\n        text-align: right;\n    }\n</style>\n<table border=\"1\" class=\"dataframe\">\n  <thead>\n    <tr style=\"text-align: right;\">\n      <th></th>\n      <th>100</th>\n      <th>Sr. Architect</th>\n      <th>60000</th>\n      <th>100000</th>\n    </tr>\n  </thead>\n  <tbody>\n    <tr>\n      <th>0</th>\n      <td>200</td>\n      <td>Sr.Software Developer</td>\n      <td>60000</td>\n      <td>80000</td>\n    </tr>\n    <tr>\n      <th>1</th>\n      <td>300</td>\n      <td>Jr.Software Developer</td>\n      <td>40000</td>\n      <td>60000</td>\n    </tr>\n    <tr>\n      <th>2</th>\n      <td>400</td>\n      <td>Jr.Software Developer</td>\n      <td>40000</td>\n      <td>60000</td>\n    </tr>\n    <tr>\n      <th>3</th>\n      <td>500</td>\n      <td>Jr. Architect</td>\n      <td>50000</td>\n      <td>70000</td>\n    </tr>\n    <tr>\n      <th>4</th>\n      <td>600</td>\n      <td>Lead Architect</td>\n      <td>70000</td>\n      <td>100000</td>\n    </tr>\n  </tbody>\n</table>\n</div>",
                        "text/plain": "   100          Sr. Architect  60000  100000\n0  200  Sr.Software Developer  60000   80000\n1  300  Jr.Software Developer  40000   60000\n2  400  Jr.Software Developer  40000   60000\n3  500          Jr. Architect  50000   70000\n4  600         Lead Architect  70000  100000"
                    },
                    "execution_count": 20,
                    "metadata": {},
                    "output_type": "execute_result"
                }
            ],
            "source": "# The code was removed by Watson Studio for sharing."
        },
        {
            "cell_type": "markdown",
            "metadata": {},
            "source": "## Locations\n#### Description"
        },
        {
            "cell_type": "code",
            "execution_count": null,
            "metadata": {},
            "outputs": [],
            "source": "# The code was removed by Watson Studio for sharing."
        }
    ],
    "metadata": {
        "kernelspec": {
            "display_name": "Python 3.10",
            "language": "python",
            "name": "python3"
        },
        "language_info": {
            "codemirror_mode": {
                "name": "ipython",
                "version": 3
            },
            "file_extension": ".py",
            "mimetype": "text/x-python",
            "name": "python",
            "nbconvert_exporter": "python",
            "pygments_lexer": "ipython3",
            "version": "3.10.9"
        }
    },
    "nbformat": 4,
    "nbformat_minor": 1
}